{
 "cells": [
  {
   "cell_type": "markdown",
   "metadata": {},
   "source": [
    "# Hydrology --- introduction\n",
    "> Water cycle, major processes\n",
    "\n",
    "- toc: true \n",
    "- badges: true\n",
    "- comments: false\n",
    "- categories: [jupyter]"
   ]
  },
  {
   "cell_type": "markdown",
   "metadata": {},
   "source": [
    "## How much water is there? Where?\n",
    "\n",
    "> youtube: https://youtu.be/2ObMyytxLz8\n",
    "\n",
    "![](https://prd-wret.s3.us-west-2.amazonaws.com/assets/palladium/production/s3fs-public/styles/full_width/public/thumbnails/image/all-the-worlds-water.jpg)\n",
    "[https://prd-wret.s3.us-west-2.amazonaws.com/assets/palladium/production/s3fs-public/styles/full_width/public/thumbnails/image/all-the-worlds-water.jpg](https://prd-wret.s3.us-west-2.amazonaws.com/assets/palladium/production/s3fs-public/styles/full_width/public/thumbnails/image/all-the-worlds-water.jpg)"
   ]
  },
  {
   "cell_type": "markdown",
   "metadata": {},
   "source": [
    "![](https://prd-wret.s3.us-west-2.amazonaws.com/assets/palladium/production/s3fs-public/styles/full_width/public/thumbnails/image/EarthsWater-BarChart.png)\n",
    "[https://www.usgs.gov/media/images/distribution-water-and-above-earth](https://www.usgs.gov/media/images/distribution-water-and-above-earth)"
   ]
  },
  {
   "cell_type": "markdown",
   "metadata": {},
   "source": [
    "## The water cycle\n",
    "\n",
    "![](https://prd-wret.s3.us-west-2.amazonaws.com/assets/palladium/production/s3fs-public/styles/full_width/public/thumbnails/image/water-cycle-natural.jpg)\n",
    "[https://www.usgs.gov/media/images/water-cycle-natural-water-cycle](https://www.usgs.gov/media/images/water-cycle-natural-water-cycle)"
   ]
  },
  {
   "cell_type": "markdown",
   "metadata": {},
   "source": [
    "## Global water distribution\n",
    "\n",
    "| Water source                         | Water volume (km$^3$) | % of freshwater | % of total water |\n",
    "|:--------------------------------------|-----------------------------------|-----------------------|------------------------|\n",
    "| Oceans, Seas, & Bays                 | 1,338,000,000                     | --                    | 96.54                  |\n",
    "| Ice caps, Glaciers,<br>& Permanent Snow | 24,064,000                        | 68.7                  | 1.74                   |\n",
    "| Groundwater                          | 23,400,000                        | --                    | 1.69                   |\n",
    "|$\\quad$Fresh                            | 10,530,000                        | 30.1                  |   0.76                 |\n",
    "|$\\quad$Saline                           | 12,870,000                        | --                    |   0.93                 |\n",
    "| Soil Moisture                        | 16,500                            | 0.05                  | 0.001                  |\n",
    "| Ground Ice & Permafrost              | 300,000                           | 0.86                  | 0.022                  |\n",
    "| Lakes                                | 176,400                           | --                    | 0.013                  |\n",
    "|$\\quad$Fresh                            | 91,000                            | 0.26                  | 0.007                  |\n",
    "|$\\quad$Saline                           | 85,400                            | --                    | 0.006                  |\n",
    "| Atmosphere                           | 12,900                            | 0.04                  | 0.001                  |\n",
    "| Swamp Water                          | 11,470                            | 0.03                  | 0.0008                 |\n",
    "| Rivers                               | 2,120                             | 0.006                 | 0.0002                 |\n",
    "| Biological Water                     | 1,120                             | 0.003                 | 0.0001                 |\n",
    "\n",
    "\\* (Percents are rounded, so will not add to 100)  \n",
    "[https://www.usgs.gov/special-topic/water-science-school/science/fundamentals-water-cycle](https://www.usgs.gov/special-topic/water-science-school/science/fundamentals-water-cycle)"
   ]
  },
  {
   "cell_type": "markdown",
   "metadata": {},
   "source": [
    "## Energy drives the hydrologic cycle\n",
    "\n",
    "> A key aspect of the hydrologic cycle is the fact that it is driven by energy inputs (primarily from the sun). At the global scale, the system is essentially closed with respect to water; negligible water is entering or leaving the system. In other words, there is no external forcing in terms of a water flux. Systems with no external forcing will generally eventually come to an equilibrium state. So what makes the hydrologic cycle so dynamic? The solar radiative energy input, which is external to the system, drives the hydrologic cycle. Averaged over the globe, 342 W m$^{-2}$ of solar radiative energy is being continuously input to the system at the top of the atmosphere. This energy input must be dissipated, and this is done, to a large extent, via the hydrologic cycle. Due to this fact, the study of hydrology is not isolated to the study of water storage and movement, but also must often include study of energy storage and movements.\n",
    "\n",
    "Margulis, 2017, \"Introduction to Hydrology\""
   ]
  },
  {
   "cell_type": "markdown",
   "metadata": {},
   "source": [
    "## Components of the water cycle\n",
    "\n",
    "### Water storage in oceans\n",
    "\n",
    "\n",
    "\n",
    "\n"
   ]
  },
  {
   "cell_type": "markdown",
   "metadata": {},
   "source": [
    "### Evaporation / Sublimation\n",
    "\n",
    "Evaporation $\\longrightarrow$ cooling\n",
    "\n",
    "![](hydrology_figures/evaporation_1.gif \"Source: http://www.hk-phy.org/contextual/heat/cha/evapo02_e.html\")\n",
    "\n",
    "![](https://s3-us-west-2.amazonaws.com/courses-images-archive-read-only/wp-content/uploads/sites/53/2014/08/19212025/20140811155424375113.png \"Source: https://courses.lumenlearning.com/cheminter/chapter/evaporation/\")\n",
    "\n",
    "![](hydrology_figures/cooling-tower.png \"Source: https://engineeringinsider.org/cooling-tower-types/\")\n",
    "\n",
    "![](hydrology_figures/evaporation_slide0.jpg \"Source: https://slideplayer.com/slide/7418126/\")\n",
    "![](hydrology_figures/evaporation_slide1.jpg \"Source: https://slideplayer.com/slide/7418126/\")\n",
    "![](hydrology_figures/evaporation_slide2.jpg \"Source: https://slideplayer.com/slide/7418126/\")"
   ]
  },
  {
   "cell_type": "markdown",
   "metadata": {},
   "source": [
    "### Evapotranspiration\n",
    "\n",
    "![](hydrology_figures/evapotranspiration1.jpg \"Source: http://www.eschooltoday.com/water-cycle/what-is-transpiration-and-evapotranspiration.html\")"
   ]
  },
  {
   "cell_type": "markdown",
   "metadata": {},
   "source": [
    "### Water storage in the atmosphere\n",
    "\n",
    "Cumulonimbus cloud over Africa\n",
    "![](hydrology_figures/cumulonimbus.jpg \"Source: https://commons.wikimedia.org/wiki/File:Cumulonimbus_Cloud_over_Africa_%28color%29.jpg\")\n",
    "\n",
    "Picture of cumulonimbus taken from the International Space Station, over western Africa near the Senegal-Mali border.\n",
    "\n",
    "If all of the water in the atmosphere rained down at once, it would only cover the globe to a depth of 2.5 centimeters.\n",
    "$$\n",
    "\\begin{align}\n",
    "\\text{amount of water in the atmosphere} & \\qquad V = 12\\, 900\\, \\text{km}^3 \\\\\n",
    "\\text{surface of Earth} & \\qquad S = 4 \\pi R^2;\\quad R=6371\\,\\text{km}\\\\\n",
    "& \\qquad V = S \\times h \\\\\n",
    "\\text{height} & \\qquad h = \\frac{V}{S} \\simeq 2.5\\,\\text{cm}\n",
    "\\end{align}\n",
    "$$\n",
    "\n"
   ]
  },
  {
   "cell_type": "markdown",
   "metadata": {},
   "source": [
    "\n",
    "\n",
    "### Condensation\n",
    "\n",
    "### Precipitation\n",
    "\n",
    "| Intensity inches/hour (cm/hour) | Median diameter (millimeters) | Velocity of fall feet/second (meters/second) | Drops per second per square foot (square meter) |                        |\n",
    "|:---------------------------------|-------------------------------|----------------------------------------------|-------------------------------------------------|------------------------|\n",
    "| Fog                             | 0.005 (0.013)                 | 0.01                                         | 0.01 (0.003)                                    | 6,264,000 (67,425,000) |\n",
    "| Mist                            | .002 (0.005)                  | .1                                           | .7 (.21)                                        | 2,510 (27,000)         |\n",
    "| Drizzle                         | .01 (0.025)                   | .96                                          | 13.5 (4.1)                                      | 14 (151)               |\n",
    "| Light rain                      | .04 (0.10)                    | 1.24                                         | 15.7 (4.8)                                      | 26 (280)               |\n",
    "| Moderate rain                   | .15 (0.38)                    | 1.60                                         | 18.7 (5.7)                                      | 46 (495)               |\n",
    "| Heavy rain                      | .60 (1.52)                    | 2.05                                         | 22.0 (6.7)                                      | 46 (495)               |\n",
    "| Excessive rain                  | 1.60 (4.06)                   | 2.40                                         | 24.0 (7.3)                                      | 76 (818)               |\n",
    "| Cloudburst                      | 4.00 (10.2)                   | 2.85                                         | 25.9 (7.9)                                      | 113 (1,220)            |\n",
    "\n",
    "\n",
    "\n",
    "Source: https://www.usgs.gov/special-topic/water-science-school/science/precipitation-and-water-cycle"
   ]
  },
  {
   "cell_type": "markdown",
   "metadata": {},
   "source": [
    "\n",
    "### Water storage in ice and snow\n",
    "\n",
    "### Snowmelt runoff to streams\n",
    "\n",
    "### Surface runoff\n",
    "\n",
    "### Streamflow\n",
    "\n",
    "### Lakes and rivers\n",
    "\n",
    "### Infiltration\n",
    "\n",
    "### Groundwater storage\n",
    "\n",
    "### Groundwater flow and discharge\n",
    "\n",
    "### Spring"
   ]
  }
 ],
 "metadata": {
  "kernelspec": {
   "display_name": "Python 3",
   "language": "python",
   "name": "python3"
  },
  "language_info": {
   "codemirror_mode": {
    "name": "ipython",
    "version": 3
   },
   "file_extension": ".py",
   "mimetype": "text/x-python",
   "name": "python",
   "nbconvert_exporter": "python",
   "pygments_lexer": "ipython3",
   "version": "3.7.7"
  }
 },
 "nbformat": 4,
 "nbformat_minor": 4
}
