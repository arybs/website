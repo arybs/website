{
 "cells": [
  {
   "cell_type": "markdown",
   "metadata": {},
   "source": [
    "# Hydrology -- introduction\n",
    "> Water cycle, major processes\n",
    "\n",
    "- toc: true \n",
    "- badges: true\n",
    "- comments: false\n",
    "- categories: [jupyter]"
   ]
  },
  {
   "cell_type": "markdown",
   "metadata": {},
   "source": [
    "## How much water is there? Where?\n",
    "\n",
    "> youtube: https://youtu.be/2ObMyytxLz8\n",
    "\n",
    "![](https://prd-wret.s3.us-west-2.amazonaws.com/assets/palladium/production/s3fs-public/styles/full_width/public/thumbnails/image/all-the-worlds-water.jpg)\n",
    "[https://prd-wret.s3.us-west-2.amazonaws.com/assets/palladium/production/s3fs-public/styles/full_width/public/thumbnails/image/all-the-worlds-water.jpg](https://prd-wret.s3.us-west-2.amazonaws.com/assets/palladium/production/s3fs-public/styles/full_width/public/thumbnails/image/all-the-worlds-water.jpg)"
   ]
  },
  {
   "cell_type": "markdown",
   "metadata": {},
   "source": [
    "<!-- ![](https://prd-wret.s3.us-west-2.amazonaws.com/assets/palladium/production/s3fs-public/styles/full_width/public/thumbnails/image/EarthsWater-BarChart.png)\n",
    "[https://www.usgs.gov/media/images/distribution-water-and-above-earth](https://www.usgs.gov/media/images/distribution-water-and-above-earth) -->"
   ]
  },
  {
   "cell_type": "markdown",
   "metadata": {},
   "source": [
    "## The water cycle\n",
    "\n",
    "![](https://prd-wret.s3.us-west-2.amazonaws.com/assets/palladium/production/s3fs-public/styles/full_width/public/thumbnails/image/water-cycle-natural.jpg)\n",
    "[https://www.usgs.gov/media/images/water-cycle-natural-water-cycle](https://www.usgs.gov/media/images/water-cycle-natural-water-cycle)"
   ]
  },
  {
   "cell_type": "markdown",
   "metadata": {},
   "source": [
    "## Global water distribution\n",
    "\n",
    "\n",
    "| Water source                         | Water volume (km$^3$) | % of freshwater | % of total water |\n",
    "|:--------------------------------------|-----------------------------------|-----------------------|------------------------|\n",
    "| Oceans, Seas, & Bays                 | 1,338,000,000                     | --                    | 96.54                  |\n",
    "| Ice caps, Glaciers,<br>& Permanent Snow | 24,064,000                        | 68.7                  | 1.74                   |\n",
    "| Groundwater                          | 23,400,000                        | --                    | 1.69                   |\n",
    "|$\\quad$Fresh                            | 10,530,000                        | 30.1                  |   0.76                 |\n",
    "|$\\quad$Saline                           | 12,870,000                        | --                    |   0.93                 |\n",
    "| Soil Moisture                        | 16,500                            | 0.05                  | 0.001                  |\n",
    "| Ground Ice & Permafrost              | 300,000                           | 0.86                  | 0.022                  |\n",
    "| Lakes                                | 176,400                           | --                    | 0.013                  |\n",
    "|$\\quad$Fresh                            | 91,000                            | 0.26                  | 0.007                  |\n",
    "|$\\quad$Saline                           | 85,400                            | --                    | 0.006                  |\n",
    "| Atmosphere                           | 12,900                            | 0.04                  | 0.001                  |\n",
    "| Swamp Water                          | 11,470                            | 0.03                  | 0.0008                 |\n",
    "| Rivers                               | 2,120                             | 0.006                 | 0.0002                 |\n",
    "| Biological Water                     | 1,120                             | 0.003                 | 0.0001                 |\n",
    "\n",
    "\\* (Percents are rounded, so will not add to 100)  \n",
    "[https://www.usgs.gov/special-topic/water-science-school/science/fundamentals-water-cycle](https://www.usgs.gov/special-topic/water-science-school/science/fundamentals-water-cycle)"
   ]
  },
  {
   "cell_type": "markdown",
   "metadata": {},
   "source": [
    "## Components of the water cycle\n",
    "\n",
    "### Water storage in oceans\n",
    "\n",
    "### Evaporation / Sublimation\n",
    "\n",
    "### Evapotranspiration\n",
    "\n",
    "### Water storage in the atmosphere\n",
    "\n",
    "### Condensation\n",
    "\n",
    "### Precipitation\n",
    "\n",
    "### Water storage in ice and snow\n",
    "\n",
    "### Snowmelt runoff to streams\n",
    "\n",
    "### Surface runoff\n",
    "\n",
    "### Streamflow\n",
    "\n",
    "### Lakes and rivers\n",
    "\n",
    "### Infiltration\n",
    "\n",
    "### Groundwater storage\n",
    "\n",
    "### Groundwater flow and discharge\n",
    "\n",
    "### Spring\n"
   ]
  }
 ],
 "metadata": {
  "kernelspec": {
   "display_name": "Python 3",
   "language": "python",
   "name": "python3"
  },
  "language_info": {
   "codemirror_mode": {
    "name": "ipython",
    "version": 3
   },
   "file_extension": ".py",
   "mimetype": "text/x-python",
   "name": "python",
   "nbconvert_exporter": "python",
   "pygments_lexer": "ipython3",
   "version": "3.7.7"
  }
 },
 "nbformat": 4,
 "nbformat_minor": 4
}
